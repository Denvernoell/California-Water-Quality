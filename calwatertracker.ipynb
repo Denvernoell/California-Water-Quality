{
 "cells": [
  {
   "cell_type": "markdown",
   "metadata": {},
   "source": [
    "# Import data"
   ]
  },
  {
   "cell_type": "code",
   "execution_count": 51,
   "metadata": {},
   "outputs": [
    {
     "name": "stdout",
     "output_type": "stream",
     "text": [
      "020822\n"
     ]
    }
   ],
   "source": [
    "import pandas as pd\n",
    "import geopandas as gpd\n",
    "import arrow\n",
    "\n",
    "\n",
    "# Source = https://data.ca.gov/dataset/water-quality-data/resource/82916200-3700-4e3d-83d5-0a3ac6dc31a8\n",
    "file_name = 'field_results'\n",
    "today = arrow.utcnow().format('MMDDYY')\n",
    "\n",
    "def import_df(file_name):\n",
    "\tprint(today)\n",
    "\ttry:\n",
    "\t\tdf = pd.read_parquet(f'{file_name}.parquet')\n",
    "\texcept:\n",
    "\t\tprint(\"Creating Feather file\")\n",
    "\t\t# !pip install pyarrow\n",
    "\t\tdf = pd.read_csv(f'{file_name}.csv')\n",
    "\t\tdf.to_parquet(f'{file_name}_{today}.parquet')\n",
    "\n",
    "\treturn df\n",
    "full_df = import_df(file_name)"
   ]
  },
  {
   "cell_type": "code",
   "execution_count": 52,
   "metadata": {},
   "outputs": [
    {
     "name": "stderr",
     "output_type": "stream",
     "text": [
      "C:\\Users\\dnoell\\AppData\\Local\\Temp\\ipykernel_8012\\352117056.py:4: SettingWithCopyWarning: \n",
      "A value is trying to be set on a copy of a slice from a DataFrame.\n",
      "Try using .loc[row_indexer,col_indexer] = value instead\n",
      "\n",
      "See the caveats in the documentation: https://pandas.pydata.org/pandas-docs/stable/user_guide/indexing.html#returning-a-view-versus-a-copy\n",
      "  df_trim['Month'] = pd.to_datetime(df_trim['SAMPLE_DATE']).dt.strftime('%B %Y')\n"
     ]
    }
   ],
   "source": [
    "def trim_dates(df,years):\n",
    "\tdf_trim = df.loc[pd.to_datetime(df['SAMPLE_DATE']).dt.year.isin(years)]\n",
    "\t# https://docs.python.org/3/library/datetime.html#strftime-and-strptime-behavior\n",
    "\tdf_trim['Month'] = pd.to_datetime(df_trim['SAMPLE_DATE']).dt.strftime('%B %Y')\n",
    "\treturn df_trim\n",
    "\n",
    "df_trim = trim_dates(full_df,[2018,2019,2020,2021,2022])"
   ]
  },
  {
   "cell_type": "code",
   "execution_count": 53,
   "metadata": {},
   "outputs": [
    {
     "data": {
      "text/html": [
       "<div>\n",
       "<style scoped>\n",
       "    .dataframe tbody tr th:only-of-type {\n",
       "        vertical-align: middle;\n",
       "    }\n",
       "\n",
       "    .dataframe tbody tr th {\n",
       "        vertical-align: top;\n",
       "    }\n",
       "\n",
       "    .dataframe thead th {\n",
       "        text-align: right;\n",
       "    }\n",
       "</style>\n",
       "<table border=\"1\" class=\"dataframe\">\n",
       "  <thead>\n",
       "    <tr style=\"text-align: right;\">\n",
       "      <th></th>\n",
       "      <th>STATION_ID</th>\n",
       "      <th>STATION_NAME</th>\n",
       "      <th>STATION_NUMBER</th>\n",
       "      <th>FULL_STATION_NAME</th>\n",
       "      <th>STATION_TYPE</th>\n",
       "      <th>LATITUDE</th>\n",
       "      <th>LONGITUDE</th>\n",
       "      <th>STATUS</th>\n",
       "      <th>COUNTY_NAME</th>\n",
       "      <th>SAMPLE_CODE</th>\n",
       "      <th>...</th>\n",
       "      <th>ANL_DATA_TYPE</th>\n",
       "      <th>PARAMETER</th>\n",
       "      <th>FDR_RESULT</th>\n",
       "      <th>FDR_TEXT_RESULT</th>\n",
       "      <th>FDR_DATE_RESULT</th>\n",
       "      <th>FDR_REPORTING_LIMIT</th>\n",
       "      <th>UNS_NAME</th>\n",
       "      <th>MTH_NAME</th>\n",
       "      <th>FDR_FOOTNOTE</th>\n",
       "      <th>Month</th>\n",
       "    </tr>\n",
       "  </thead>\n",
       "  <tbody>\n",
       "    <tr>\n",
       "      <th>5848</th>\n",
       "      <td>12</td>\n",
       "      <td>H.O. Banks Headworks</td>\n",
       "      <td>KA000331</td>\n",
       "      <td>Delta P.P. Headworks at H.O. Banks PP</td>\n",
       "      <td>Surface Water</td>\n",
       "      <td>37.8019</td>\n",
       "      <td>-121.62</td>\n",
       "      <td>Review Status Unknown</td>\n",
       "      <td>Alameda</td>\n",
       "      <td>D0118B0001</td>\n",
       "      <td>...</td>\n",
       "      <td>None</td>\n",
       "      <td>SpecificConductance</td>\n",
       "      <td>550.0</td>\n",
       "      <td>None</td>\n",
       "      <td>None</td>\n",
       "      <td>1.0</td>\n",
       "      <td>uS/cm@25 °C</td>\n",
       "      <td>EPA 120.1 (Field)</td>\n",
       "      <td>None</td>\n",
       "      <td>January 2018</td>\n",
       "    </tr>\n",
       "    <tr>\n",
       "      <th>5849</th>\n",
       "      <td>12</td>\n",
       "      <td>H.O. Banks Headworks</td>\n",
       "      <td>KA000331</td>\n",
       "      <td>Delta P.P. Headworks at H.O. Banks PP</td>\n",
       "      <td>Surface Water</td>\n",
       "      <td>37.8019</td>\n",
       "      <td>-121.62</td>\n",
       "      <td>Review Status Unknown</td>\n",
       "      <td>Alameda</td>\n",
       "      <td>D0118B0001</td>\n",
       "      <td>...</td>\n",
       "      <td>None</td>\n",
       "      <td>WaterTemperature</td>\n",
       "      <td>10.9</td>\n",
       "      <td>None</td>\n",
       "      <td>None</td>\n",
       "      <td>0.1</td>\n",
       "      <td>°C</td>\n",
       "      <td>EPA 170.1 (Field)</td>\n",
       "      <td>None</td>\n",
       "      <td>January 2018</td>\n",
       "    </tr>\n",
       "  </tbody>\n",
       "</table>\n",
       "<p>2 rows × 24 columns</p>\n",
       "</div>"
      ],
      "text/plain": [
       "      STATION_ID          STATION_NAME STATION_NUMBER  \\\n",
       "5848          12  H.O. Banks Headworks       KA000331   \n",
       "5849          12  H.O. Banks Headworks       KA000331   \n",
       "\n",
       "                          FULL_STATION_NAME   STATION_TYPE  LATITUDE  \\\n",
       "5848  Delta P.P. Headworks at H.O. Banks PP  Surface Water   37.8019   \n",
       "5849  Delta P.P. Headworks at H.O. Banks PP  Surface Water   37.8019   \n",
       "\n",
       "      LONGITUDE                 STATUS COUNTY_NAME SAMPLE_CODE  ...  \\\n",
       "5848    -121.62  Review Status Unknown     Alameda  D0118B0001  ...   \n",
       "5849    -121.62  Review Status Unknown     Alameda  D0118B0001  ...   \n",
       "\n",
       "     ANL_DATA_TYPE            PARAMETER  FDR_RESULT FDR_TEXT_RESULT  \\\n",
       "5848          None  SpecificConductance       550.0            None   \n",
       "5849          None     WaterTemperature        10.9            None   \n",
       "\n",
       "     FDR_DATE_RESULT FDR_REPORTING_LIMIT     UNS_NAME           MTH_NAME  \\\n",
       "5848            None                 1.0  uS/cm@25 °C  EPA 120.1 (Field)   \n",
       "5849            None                 0.1           °C  EPA 170.1 (Field)   \n",
       "\n",
       "     FDR_FOOTNOTE         Month  \n",
       "5848         None  January 2018  \n",
       "5849         None  January 2018  \n",
       "\n",
       "[2 rows x 24 columns]"
      ]
     },
     "execution_count": 53,
     "metadata": {},
     "output_type": "execute_result"
    }
   ],
   "source": [
    "df = df_trim\n",
    "df.head(2)"
   ]
  },
  {
   "cell_type": "code",
   "execution_count": 56,
   "metadata": {},
   "outputs": [
    {
     "data": {
      "text/html": [
       "<div>\n",
       "<style scoped>\n",
       "    .dataframe tbody tr th:only-of-type {\n",
       "        vertical-align: middle;\n",
       "    }\n",
       "\n",
       "    .dataframe tbody tr th {\n",
       "        vertical-align: top;\n",
       "    }\n",
       "\n",
       "    .dataframe thead th {\n",
       "        text-align: right;\n",
       "    }\n",
       "</style>\n",
       "<table border=\"1\" class=\"dataframe\">\n",
       "  <thead>\n",
       "    <tr style=\"text-align: right;\">\n",
       "      <th></th>\n",
       "      <th>PARAMETER</th>\n",
       "      <th>FDR_RESULT</th>\n",
       "      <th>UNS_NAME</th>\n",
       "      <th>SAMPLE_DATE</th>\n",
       "      <th>SAMPLE_DEPTH</th>\n",
       "      <th>SAMPLE_DEPTH_UNITS</th>\n",
       "      <th>Month</th>\n",
       "    </tr>\n",
       "  </thead>\n",
       "  <tbody>\n",
       "    <tr>\n",
       "      <th>5850</th>\n",
       "      <td>DissolvedOxygen</td>\n",
       "      <td>6.8</td>\n",
       "      <td>mg/L</td>\n",
       "      <td>2018-01-17 08:55:00</td>\n",
       "      <td>1.0</td>\n",
       "      <td>Meters</td>\n",
       "      <td>January 2018</td>\n",
       "    </tr>\n",
       "    <tr>\n",
       "      <th>5859</th>\n",
       "      <td>DissolvedOxygen</td>\n",
       "      <td>7.1</td>\n",
       "      <td>mg/L</td>\n",
       "      <td>2018-02-21 08:25:00</td>\n",
       "      <td>1.0</td>\n",
       "      <td>Meters</td>\n",
       "      <td>February 2018</td>\n",
       "    </tr>\n",
       "    <tr>\n",
       "      <th>5864</th>\n",
       "      <td>DissolvedOxygen</td>\n",
       "      <td>7.8</td>\n",
       "      <td>mg/L</td>\n",
       "      <td>2018-03-21 07:10:00</td>\n",
       "      <td>1.0</td>\n",
       "      <td>Meters</td>\n",
       "      <td>March 2018</td>\n",
       "    </tr>\n",
       "    <tr>\n",
       "      <th>5871</th>\n",
       "      <td>DissolvedOxygen</td>\n",
       "      <td>6.3</td>\n",
       "      <td>mg/L</td>\n",
       "      <td>2018-04-17 08:10:00</td>\n",
       "      <td>1.0</td>\n",
       "      <td>Meters</td>\n",
       "      <td>April 2018</td>\n",
       "    </tr>\n",
       "    <tr>\n",
       "      <th>5878</th>\n",
       "      <td>DissolvedOxygen</td>\n",
       "      <td>7.5</td>\n",
       "      <td>mg/L</td>\n",
       "      <td>2018-05-15 07:30:00</td>\n",
       "      <td>1.0</td>\n",
       "      <td>Meters</td>\n",
       "      <td>May 2018</td>\n",
       "    </tr>\n",
       "  </tbody>\n",
       "</table>\n",
       "</div>"
      ],
      "text/plain": [
       "            PARAMETER  FDR_RESULT UNS_NAME          SAMPLE_DATE  SAMPLE_DEPTH  \\\n",
       "5850  DissolvedOxygen         6.8     mg/L  2018-01-17 08:55:00           1.0   \n",
       "5859  DissolvedOxygen         7.1     mg/L  2018-02-21 08:25:00           1.0   \n",
       "5864  DissolvedOxygen         7.8     mg/L  2018-03-21 07:10:00           1.0   \n",
       "5871  DissolvedOxygen         6.3     mg/L  2018-04-17 08:10:00           1.0   \n",
       "5878  DissolvedOxygen         7.5     mg/L  2018-05-15 07:30:00           1.0   \n",
       "\n",
       "     SAMPLE_DEPTH_UNITS          Month  \n",
       "5850             Meters   January 2018  \n",
       "5859             Meters  February 2018  \n",
       "5864             Meters     March 2018  \n",
       "5871             Meters     April 2018  \n",
       "5878             Meters       May 2018  "
      ]
     },
     "execution_count": 56,
     "metadata": {},
     "output_type": "execute_result"
    }
   ],
   "source": [
    "df = df_trim.loc[\n",
    "\t(df_trim['STATION_NAME'] == 'H.O. Banks Headworks') & \n",
    "\t(df_trim['PARAMETER'] == 'DissolvedOxygen' )]\n",
    "df[['PARAMETER','FDR_RESULT','UNS_NAME','SAMPLE_DATE','SAMPLE_DEPTH','SAMPLE_DEPTH_UNITS','Month']].head(5)"
   ]
  },
  {
   "cell_type": "code",
   "execution_count": 59,
   "metadata": {},
   "outputs": [],
   "source": [
    "# !pip install altair\n",
    "import altair as alt"
   ]
  },
  {
   "cell_type": "code",
   "execution_count": 61,
   "metadata": {},
   "outputs": [
    {
     "name": "stdout",
     "output_type": "stream",
     "text": [
      "Collecting vega_datasets\n",
      "  Using cached vega_datasets-0.9.0-py3-none-any.whl (210 kB)\n",
      "Requirement already satisfied: pandas in c:\\users\\dnoell\\anaconda3\\envs\\gis\\lib\\site-packages (from vega_datasets) (1.4.0)\n",
      "Requirement already satisfied: python-dateutil>=2.8.1 in c:\\users\\dnoell\\anaconda3\\envs\\gis\\lib\\site-packages (from pandas->vega_datasets) (2.8.2)\n",
      "Requirement already satisfied: numpy>=1.18.5 in c:\\users\\dnoell\\anaconda3\\envs\\gis\\lib\\site-packages (from pandas->vega_datasets) (1.22.1)\n",
      "Requirement already satisfied: pytz>=2020.1 in c:\\users\\dnoell\\anaconda3\\envs\\gis\\lib\\site-packages (from pandas->vega_datasets) (2021.3)\n",
      "Requirement already satisfied: six>=1.5 in c:\\users\\dnoell\\anaconda3\\envs\\gis\\lib\\site-packages (from python-dateutil>=2.8.1->pandas->vega_datasets) (1.16.0)\n",
      "Installing collected packages: vega_datasets\n",
      "Successfully installed vega_datasets-0.9.0\n"
     ]
    },
    {
     "name": "stderr",
     "output_type": "stream",
     "text": [
      "Error processing line 1 of C:\\Users\\dnoell\\Anaconda3\\envs\\gis\\lib\\site-packages\\python-certifi-win32-init.pth:\n",
      "\n",
      "  Traceback (most recent call last):\n",
      "    File \"C:\\Users\\dnoell\\Anaconda3\\envs\\gis\\lib\\site.py\", line 169, in addpackage\n",
      "      exec(line)\n",
      "    File \"<string>\", line 1, in <module>\n",
      "    File \"C:\\Users\\dnoell\\Anaconda3\\envs\\gis\\lib\\site-packages\\certifi_win32\\bootstrap.py\", line 3, in <module>\n",
      "      import wrapt\n",
      "  ModuleNotFoundError: No module named 'wrapt'\n",
      "\n",
      "Remainder of file ignored\n"
     ]
    }
   ],
   "source": [
    "!pip install vega_datasets\n",
    "from vega_datasets import data\n"
   ]
  },
  {
   "cell_type": "code",
   "execution_count": null,
   "metadata": {},
   "outputs": [],
   "source": [
    "\n",
    "alt.Chart(source).mark_circle(size=60).encode(\n",
    "    x='Horsepower',\n",
    "    y='Miles_per_Gallon',\n",
    "    color='Origin',\n",
    "    tooltip=['Name', 'Origin', 'Horsepower', 'Miles_per_Gallon']\n",
    ").interactive()"
   ]
  },
  {
   "cell_type": "code",
   "execution_count": null,
   "metadata": {},
   "outputs": [],
   "source": []
  },
  {
   "cell_type": "markdown",
   "metadata": {},
   "source": [
    "## Create Geodataframe from Coordinates"
   ]
  },
  {
   "cell_type": "code",
   "execution_count": 4,
   "metadata": {},
   "outputs": [],
   "source": [
    "\n",
    "try:\n",
    "\tgdf = gpd.read_parquet(f'gdf_{today}.parquet')\n",
    "except:\n",
    "\tprint(\"Creating File from Coordinates\")\n",
    "\tgdf = gpd.GeoDataFrame(df, geometry=gpd.points_from_xy(x = df['LONGITUDE'],y = df['LATITUDE']))\n",
    "\timport warnings; warnings.filterwarnings('ignore', message='.*initial implementation of Parquet.*')\n",
    "\tgdf.to_parquet(f'gdf_{today}.parquet')\n"
   ]
  },
  {
   "cell_type": "markdown",
   "metadata": {},
   "source": [
    "# Visualize"
   ]
  },
  {
   "cell_type": "code",
   "execution_count": 5,
   "metadata": {},
   "outputs": [],
   "source": [
    "# gdf.set_crs('WGS 84').explore()"
   ]
  },
  {
   "cell_type": "code",
   "execution_count": 25,
   "metadata": {},
   "outputs": [
    {
     "data": {
      "text/plain": [
       "(42502, 24)"
      ]
     },
     "execution_count": 25,
     "metadata": {},
     "output_type": "execute_result"
    }
   ],
   "source": [
    "full_gdf = gdf\n",
    "full_gdf.shape"
   ]
  },
  {
   "cell_type": "code",
   "execution_count": 26,
   "metadata": {},
   "outputs": [
    {
     "data": {
      "text/html": [
       "<div>\n",
       "<style scoped>\n",
       "    .dataframe tbody tr th:only-of-type {\n",
       "        vertical-align: middle;\n",
       "    }\n",
       "\n",
       "    .dataframe tbody tr th {\n",
       "        vertical-align: top;\n",
       "    }\n",
       "\n",
       "    .dataframe thead th {\n",
       "        text-align: right;\n",
       "    }\n",
       "</style>\n",
       "<table border=\"1\" class=\"dataframe\">\n",
       "  <thead>\n",
       "    <tr style=\"text-align: right;\">\n",
       "      <th></th>\n",
       "      <th>STATION_ID</th>\n",
       "      <th>STATION_NAME</th>\n",
       "      <th>STATION_NUMBER</th>\n",
       "      <th>FULL_STATION_NAME</th>\n",
       "      <th>STATION_TYPE</th>\n",
       "      <th>LATITUDE</th>\n",
       "      <th>LONGITUDE</th>\n",
       "      <th>STATUS</th>\n",
       "      <th>COUNTY_NAME</th>\n",
       "      <th>SAMPLE_CODE</th>\n",
       "      <th>...</th>\n",
       "      <th>ANL_DATA_TYPE</th>\n",
       "      <th>PARAMETER</th>\n",
       "      <th>FDR_RESULT</th>\n",
       "      <th>FDR_TEXT_RESULT</th>\n",
       "      <th>FDR_DATE_RESULT</th>\n",
       "      <th>FDR_REPORTING_LIMIT</th>\n",
       "      <th>UNS_NAME</th>\n",
       "      <th>MTH_NAME</th>\n",
       "      <th>FDR_FOOTNOTE</th>\n",
       "      <th>geometry</th>\n",
       "    </tr>\n",
       "  </thead>\n",
       "  <tbody>\n",
       "    <tr>\n",
       "      <th>5848</th>\n",
       "      <td>12</td>\n",
       "      <td>H.O. Banks Headworks</td>\n",
       "      <td>KA000331</td>\n",
       "      <td>Delta P.P. Headworks at H.O. Banks PP</td>\n",
       "      <td>Surface Water</td>\n",
       "      <td>37.8019</td>\n",
       "      <td>-121.62</td>\n",
       "      <td>Review Status Unknown</td>\n",
       "      <td>Alameda</td>\n",
       "      <td>D0118B0001</td>\n",
       "      <td>...</td>\n",
       "      <td>None</td>\n",
       "      <td>SpecificConductance</td>\n",
       "      <td>550.0</td>\n",
       "      <td>None</td>\n",
       "      <td>None</td>\n",
       "      <td>1.0</td>\n",
       "      <td>uS/cm@25 °C</td>\n",
       "      <td>EPA 120.1 (Field)</td>\n",
       "      <td>None</td>\n",
       "      <td>POINT (-121.62000 37.80190)</td>\n",
       "    </tr>\n",
       "    <tr>\n",
       "      <th>5849</th>\n",
       "      <td>12</td>\n",
       "      <td>H.O. Banks Headworks</td>\n",
       "      <td>KA000331</td>\n",
       "      <td>Delta P.P. Headworks at H.O. Banks PP</td>\n",
       "      <td>Surface Water</td>\n",
       "      <td>37.8019</td>\n",
       "      <td>-121.62</td>\n",
       "      <td>Review Status Unknown</td>\n",
       "      <td>Alameda</td>\n",
       "      <td>D0118B0001</td>\n",
       "      <td>...</td>\n",
       "      <td>None</td>\n",
       "      <td>WaterTemperature</td>\n",
       "      <td>10.9</td>\n",
       "      <td>None</td>\n",
       "      <td>None</td>\n",
       "      <td>0.1</td>\n",
       "      <td>°C</td>\n",
       "      <td>EPA 170.1 (Field)</td>\n",
       "      <td>None</td>\n",
       "      <td>POINT (-121.62000 37.80190)</td>\n",
       "    </tr>\n",
       "  </tbody>\n",
       "</table>\n",
       "<p>2 rows × 24 columns</p>\n",
       "</div>"
      ],
      "text/plain": [
       "      STATION_ID          STATION_NAME STATION_NUMBER  \\\n",
       "5848          12  H.O. Banks Headworks       KA000331   \n",
       "5849          12  H.O. Banks Headworks       KA000331   \n",
       "\n",
       "                          FULL_STATION_NAME   STATION_TYPE  LATITUDE  \\\n",
       "5848  Delta P.P. Headworks at H.O. Banks PP  Surface Water   37.8019   \n",
       "5849  Delta P.P. Headworks at H.O. Banks PP  Surface Water   37.8019   \n",
       "\n",
       "      LONGITUDE                 STATUS COUNTY_NAME SAMPLE_CODE  ...  \\\n",
       "5848    -121.62  Review Status Unknown     Alameda  D0118B0001  ...   \n",
       "5849    -121.62  Review Status Unknown     Alameda  D0118B0001  ...   \n",
       "\n",
       "     ANL_DATA_TYPE            PARAMETER  FDR_RESULT FDR_TEXT_RESULT  \\\n",
       "5848          None  SpecificConductance       550.0            None   \n",
       "5849          None     WaterTemperature        10.9            None   \n",
       "\n",
       "     FDR_DATE_RESULT FDR_REPORTING_LIMIT     UNS_NAME           MTH_NAME  \\\n",
       "5848            None                 1.0  uS/cm@25 °C  EPA 120.1 (Field)   \n",
       "5849            None                 0.1           °C  EPA 170.1 (Field)   \n",
       "\n",
       "     FDR_FOOTNOTE                     geometry  \n",
       "5848         None  POINT (-121.62000 37.80190)  \n",
       "5849         None  POINT (-121.62000 37.80190)  \n",
       "\n",
       "[2 rows x 24 columns]"
      ]
     },
     "execution_count": 26,
     "metadata": {},
     "output_type": "execute_result"
    }
   ],
   "source": [
    "full_gdf.head(2)"
   ]
  },
  {
   "cell_type": "code",
   "execution_count": 21,
   "metadata": {},
   "outputs": [],
   "source": [
    "columns = [c for c in gdf.columns]\n",
    "uniques = {c:[r for r in gdf[c].unique()] for c in columns}\n",
    "unique_df = pd.DataFrame.from_dict(uniques,orient='index').T"
   ]
  },
  {
   "cell_type": "code",
   "execution_count": 22,
   "metadata": {},
   "outputs": [
    {
     "data": {
      "text/html": [
       "<div>\n",
       "<style scoped>\n",
       "    .dataframe tbody tr th:only-of-type {\n",
       "        vertical-align: middle;\n",
       "    }\n",
       "\n",
       "    .dataframe tbody tr th {\n",
       "        vertical-align: top;\n",
       "    }\n",
       "\n",
       "    .dataframe thead th {\n",
       "        text-align: right;\n",
       "    }\n",
       "</style>\n",
       "<table border=\"1\" class=\"dataframe\">\n",
       "  <thead>\n",
       "    <tr style=\"text-align: right;\">\n",
       "      <th></th>\n",
       "      <th>STATION_ID</th>\n",
       "      <th>STATION_NAME</th>\n",
       "      <th>STATION_NUMBER</th>\n",
       "      <th>FULL_STATION_NAME</th>\n",
       "      <th>STATION_TYPE</th>\n",
       "      <th>LATITUDE</th>\n",
       "      <th>LONGITUDE</th>\n",
       "      <th>STATUS</th>\n",
       "      <th>COUNTY_NAME</th>\n",
       "      <th>SAMPLE_CODE</th>\n",
       "      <th>...</th>\n",
       "      <th>ANL_DATA_TYPE</th>\n",
       "      <th>PARAMETER</th>\n",
       "      <th>FDR_RESULT</th>\n",
       "      <th>FDR_TEXT_RESULT</th>\n",
       "      <th>FDR_DATE_RESULT</th>\n",
       "      <th>FDR_REPORTING_LIMIT</th>\n",
       "      <th>UNS_NAME</th>\n",
       "      <th>MTH_NAME</th>\n",
       "      <th>FDR_FOOTNOTE</th>\n",
       "      <th>geometry</th>\n",
       "    </tr>\n",
       "  </thead>\n",
       "  <tbody>\n",
       "    <tr>\n",
       "      <th>0</th>\n",
       "      <td>12</td>\n",
       "      <td>H.O. Banks Headworks</td>\n",
       "      <td>KA000331</td>\n",
       "      <td>Delta P.P. Headworks at H.O. Banks PP</td>\n",
       "      <td>Surface Water</td>\n",
       "      <td>37.8019</td>\n",
       "      <td>-121.62</td>\n",
       "      <td>Review Status Unknown</td>\n",
       "      <td>Alameda</td>\n",
       "      <td>D0118B0001</td>\n",
       "      <td>...</td>\n",
       "      <td>None</td>\n",
       "      <td>SpecificConductance</td>\n",
       "      <td>550.0</td>\n",
       "      <td>None</td>\n",
       "      <td>None</td>\n",
       "      <td>1.0</td>\n",
       "      <td>uS/cm@25 °C</td>\n",
       "      <td>EPA 120.1 (Field)</td>\n",
       "      <td>None</td>\n",
       "      <td>POINT (-121.62 37.8019)</td>\n",
       "    </tr>\n",
       "    <tr>\n",
       "      <th>1</th>\n",
       "      <td>87</td>\n",
       "      <td>Del Valle Reservoir</td>\n",
       "      <td>DV001000</td>\n",
       "      <td>Lake Del Valle at Glory Hole</td>\n",
       "      <td>Groundwater</td>\n",
       "      <td>37.6147</td>\n",
       "      <td>-121.746</td>\n",
       "      <td>None</td>\n",
       "      <td>Alpine</td>\n",
       "      <td>C0118B0046</td>\n",
       "      <td>...</td>\n",
       "      <td>Memo</td>\n",
       "      <td>WaterTemperature</td>\n",
       "      <td>10.9</td>\n",
       "      <td></td>\n",
       "      <td>1900-01-01 00:00:00</td>\n",
       "      <td>0.1</td>\n",
       "      <td>°C</td>\n",
       "      <td>EPA 170.1 (Field)</td>\n",
       "      <td>turbidity might be too high due to insrument</td>\n",
       "      <td>POINT (-121.746 37.6147)</td>\n",
       "    </tr>\n",
       "  </tbody>\n",
       "</table>\n",
       "<p>2 rows × 24 columns</p>\n",
       "</div>"
      ],
      "text/plain": [
       "  STATION_ID          STATION_NAME STATION_NUMBER  \\\n",
       "0         12  H.O. Banks Headworks       KA000331   \n",
       "1         87   Del Valle Reservoir       DV001000   \n",
       "\n",
       "                       FULL_STATION_NAME   STATION_TYPE LATITUDE LONGITUDE  \\\n",
       "0  Delta P.P. Headworks at H.O. Banks PP  Surface Water  37.8019   -121.62   \n",
       "1           Lake Del Valle at Glory Hole    Groundwater  37.6147  -121.746   \n",
       "\n",
       "                  STATUS COUNTY_NAME SAMPLE_CODE  ... ANL_DATA_TYPE  \\\n",
       "0  Review Status Unknown     Alameda  D0118B0001  ...          None   \n",
       "1                   None      Alpine  C0118B0046  ...          Memo   \n",
       "\n",
       "             PARAMETER FDR_RESULT FDR_TEXT_RESULT      FDR_DATE_RESULT  \\\n",
       "0  SpecificConductance      550.0            None                 None   \n",
       "1     WaterTemperature       10.9                  1900-01-01 00:00:00   \n",
       "\n",
       "  FDR_REPORTING_LIMIT     UNS_NAME           MTH_NAME  \\\n",
       "0                 1.0  uS/cm@25 °C  EPA 120.1 (Field)   \n",
       "1                 0.1           °C  EPA 170.1 (Field)   \n",
       "\n",
       "                                   FDR_FOOTNOTE                  geometry  \n",
       "0                                          None   POINT (-121.62 37.8019)  \n",
       "1  turbidity might be too high due to insrument  POINT (-121.746 37.6147)  \n",
       "\n",
       "[2 rows x 24 columns]"
      ]
     },
     "execution_count": 22,
     "metadata": {},
     "output_type": "execute_result"
    }
   ],
   "source": [
    "unique_df.head(2)"
   ]
  },
  {
   "cell_type": "code",
   "execution_count": 34,
   "metadata": {},
   "outputs": [],
   "source": [
    "unique_df.to_clipboard()"
   ]
  },
  {
   "cell_type": "code",
   "execution_count": 20,
   "metadata": {},
   "outputs": [
    {
     "name": "stderr",
     "output_type": "stream",
     "text": [
      "C:\\Users\\dnoell\\Anaconda3\\envs\\gis\\lib\\site-packages\\geopandas\\io\\file.py:362: FutureWarning: pandas.Int64Index is deprecated and will be removed from pandas in a future version. Use pandas.Index with the appropriate dtype instead.\n",
      "  pd.Int64Index,\n",
      "C:\\Users\\dnoell\\AppData\\Local\\Temp\\ipykernel_65968\\701060304.py:1: UserWarning: Column names longer than 10 characters will be truncated when saved to ESRI Shapefile.\n",
      "  gdf.to_file('calwater2021.shp')\n"
     ]
    }
   ],
   "source": [
    "gdf.to_file('calwater2021.shp')"
   ]
  },
  {
   "cell_type": "code",
   "execution_count": 53,
   "metadata": {},
   "outputs": [
    {
     "name": "stderr",
     "output_type": "stream",
     "text": [
      "C:\\Users\\dnoell\\Anaconda3\\envs\\gis\\lib\\site-packages\\geopandas\\io\\file.py:362: FutureWarning: pandas.Int64Index is deprecated and will be removed from pandas in a future version. Use pandas.Index with the appropriate dtype instead.\n",
      "  pd.Int64Index,\n",
      "C:\\Users\\dnoell\\AppData\\Local\\Temp\\ipykernel_45692\\1660223451.py:2: UserWarning: Column names longer than 10 characters will be truncated when saved to ESRI Shapefile.\n",
      "  sdf.to_file('san_joaquin_2021.shp')\n"
     ]
    }
   ],
   "source": [
    "sdf = gdf[gdf['COUNTY_NAME'] == 'San Joaquin']\n",
    "sdf.to_file('san_joaquin_2021.shp')"
   ]
  },
  {
   "cell_type": "code",
   "execution_count": null,
   "metadata": {},
   "outputs": [],
   "source": [
    "\n",
    "# gdf[gdf['PARAMETER'] == 'pH']\n",
    "\n",
    "sdf = gdf[gdf['STATION_NAME'] == 'OR up Mtn House Crk']\n",
    "[r for r in sdf['SAMPLE_DATE'].unique()]"
   ]
  },
  {
   "cell_type": "code",
   "execution_count": 36,
   "metadata": {},
   "outputs": [
    {
     "data": {
      "text/plain": [
       "<AxesSubplot:>"
      ]
     },
     "execution_count": 36,
     "metadata": {},
     "output_type": "execute_result"
    },
    {
     "data": {
      "image/png": "[encoded data removed]",
      "text/plain": [
       "<Figure size 432x288 with 1 Axes>"
      ]
     },
     "metadata": {
      "needs_background": "light"
     },
     "output_type": "display_data"
    }
   ],
   "source": [
    "gdf.plot()"
   ]
  },
  {
   "cell_type": "code",
   "execution_count": 25,
   "metadata": {},
   "outputs": [
    {
     "data": {
      "text/plain": [
       "<AxesSubplot:>"
      ]
     },
     "execution_count": 25,
     "metadata": {},
     "output_type": "execute_result"
    },
    {
     "data": {
      "image/png": "[encoded data removed]",
      "text/plain": [
       "<Figure size 432x288 with 1 Axes>"
      ]
     },
     "metadata": {
      "needs_background": "light"
     },
     "output_type": "display_data"
    }
   ],
   "source": [
    "world = gpd.read_file(gpd.datasets.get_path('naturalearth_lowres'))\n",
    "\n",
    "# We restrict to South America.\n",
    "# ax = world[world.continent == 'North America'].plot(color='white', edgecolor='black')\n",
    "ax = world[world.name == 'United States of America'].plot(color='white', edgecolor='black')\n",
    "\n",
    "# We can now plot our GeoDataFrame.\n",
    "gdf.plot(ax=ax, color='red')\n",
    "\n",
    "# plt.show()"
   ]
  },
  {
   "cell_type": "code",
   "execution_count": 37,
   "metadata": {},
   "outputs": [
    {
     "ename": "NameError",
     "evalue": "name 'world' is not defined",
     "output_type": "error",
     "traceback": [
      "\u001b[1;31m---------------------------------------------------------------------------\u001b[0m",
      "\u001b[1;31mNameError\u001b[0m                                 Traceback (most recent call last)",
      "\u001b[1;32mp:\\Support\\Admin\\Timesheets\\Denver Noell_MISC\\work_scripts\\Blog\\GIS\\Cal Water Quality\\calwatertracker.ipynb Cell 20'\u001b[0m in \u001b[0;36m<module>\u001b[1;34m\u001b[0m\n\u001b[1;32m----> <a href='vscode-notebook-cell:/p%3A/Support/Admin/Timesheets/Denver%20Noell_MISC/work_scripts/Blog/GIS/Cal%20Water%20Quality/calwatertracker.ipynb#ch0000027?line=0'>1</a>\u001b[0m world[\u001b[39m'\u001b[39m\u001b[39mname\u001b[39m\u001b[39m'\u001b[39m]\u001b[39m.\u001b[39mloc[world[\u001b[39m'\u001b[39m\u001b[39mcontinent\u001b[39m\u001b[39m'\u001b[39m] \u001b[39m==\u001b[39m \u001b[39m'\u001b[39m\u001b[39mNorth America\u001b[39m\u001b[39m'\u001b[39m]\u001b[39m.\u001b[39mto_list()\n",
      "\u001b[1;31mNameError\u001b[0m: name 'world' is not defined"
     ]
    }
   ],
   "source": [
    "world['name'].loc[world['continent'] == 'North America'].to_list()"
   ]
  },
  {
   "cell_type": "code",
   "execution_count": null,
   "metadata": {},
   "outputs": [],
   "source": []
  },
  {
   "cell_type": "code",
   "execution_count": null,
   "metadata": {},
   "outputs": [],
   "source": []
  },
  {
   "cell_type": "code",
   "execution_count": null,
   "metadata": {},
   "outputs": [],
   "source": [
    "\n",
    "gdf['SAMPLE_DATE'] = gdf['SAMPLE_DATE'].to_string()\n",
    "gdf_2006.to_file('cal_water_2006.shp')"
   ]
  },
  {
   "cell_type": "markdown",
   "metadata": {},
   "source": [
    "# Plot"
   ]
  },
  {
   "cell_type": "code",
   "execution_count": 38,
   "metadata": {},
   "outputs": [
    {
     "data": {
      "text/plain": [
       "<AxesSubplot:>"
      ]
     },
     "execution_count": 38,
     "metadata": {},
     "output_type": "execute_result"
    },
    {
     "data": {
      "image/png": "[encoded data removed]",
      "text/plain": [
       "<Figure size 432x288 with 1 Axes>"
      ]
     },
     "metadata": {
      "needs_background": "light"
     },
     "output_type": "display_data"
    }
   ],
   "source": [
    "gdf.plot()"
   ]
  },
  {
   "cell_type": "markdown",
   "metadata": {},
   "source": [
    "# Plot on world"
   ]
  }
 ],
 "metadata": {
  "interpreter": {
   "hash": "3067a4e9b670b2f5e73a74e9a2d9c6a2f3ee8374356055677ff1895112a0b210"
  },
  "kernelspec": {
   "display_name": "Python 3.8.3 ('base')",
   "language": "python",
   "name": "python3"
  },
  "language_info": {
   "codemirror_mode": {
    "name": "ipython",
    "version": 3
   },
   "file_extension": ".py",
   "mimetype": "text/x-python",
   "name": "python",
   "nbconvert_exporter": "python",
   "pygments_lexer": "ipython3",
   "version": "3.9.10"
  },
  "orig_nbformat": 4
 },
 "nbformat": 4,
 "nbformat_minor": 2
}
